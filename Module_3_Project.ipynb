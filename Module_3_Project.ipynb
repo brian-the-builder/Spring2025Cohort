{
 "cells": [
  {
   "cell_type": "code",
   "execution_count": 1,
   "id": "bd6ade74-cb0b-47fe-b2d7-444dfb81e92d",
   "metadata": {},
   "outputs": [],
   "source": [
    "import pandas as pd\n",
    "import requests\n",
    "from bs4 import BeautifulSoup"
   ]
  },
  {
   "cell_type": "code",
   "execution_count": 2,
   "id": "196c0d21-d91d-462e-bd64-3da3c553e41c",
   "metadata": {
    "scrolled": true
   },
   "outputs": [
    {
     "data": {
      "text/plain": [
       "'<html lang=\"en\">\\n<head>\\n    <meta charset=\"UTF-8\">\\n    <meta name=\"viewport\" content=\"width=device-width, initial-scale=1.0\">\\n    <link rel=\"stylesheet\" href=\"https://www.w3schools.com/w3css/4/w3.css\">\\n    <link rel=\"stylesheet\" href=\"style.css\">\\n    <title>Bob\\'s Bookstore</title>\\n</head>\\n<body>\\n    <div class=\"w3-bar w3-blue-grey w3-large\" style=\"padding: 0rem 8rem 0rem 8rem\">\\n        <a href=\"/bridgerland-technical-college/home.html\"><img src=\"bobs_bookstore_white.png\" class=\"\" style=\"max-height: 2.8rem;\"></a>\\n        <a href=\"/bridgerland-technical-college/bookstore.html\" class=\"w3-bar-item w3-button w3-right\">Store</a>\\n        <a href=\"/bridgerland-technical-college/contact.html\" class=\"w3-bar-item w3-button w3-right\">Contact</a>\\n        <a href=\"/bridgerland-technical-college/about.html\" class=\"w3-bar-item w3-button w3-right\">About</a>\\n      </div>\\n\\n      <div style=\"max-width: 1000px;margin: auto;\" class=\"w3-container\">\\n        <h1>Books for Sale</h1>\\n        <table class=\"w3-table-all w3-hoverable w3-small\">\\n            <thead>\\n                <tr>\\n                    <th>ISBN</th>\\n                    <th>Title</th>\\n                    <th>Author</th>\\n                    <th>Language</th>\\n                    <th>Pages</th>\\n                    <th>Topic</th>\\n                    <th>Price</th>\\n                    <th></th>\\n                </tr>\\n            </thead>\\n            <tr class=\"book\">\\n                <td>978-1234567890</td>\\n                <td>Whiskers of Wisdom: Tales from Feline Philosophers</td>\\n                <td>Penelope Wainwright</td>\\n                <td>English</td>\\n                <td>256</td>\\n                <td>Cats</td>\\n                <td>$19.99</td>\\n                <td><button>Buy now</button></td>\\n            </tr>\\n            <tr class=\"book\">\\n                <td>978-2345678901</td>\\n                <td>Purrfectly Pawesome: A Cat\\'s Life</td>\\n                <td>Jasper Sterling</td>\\n                <td>English</td>\\n                <td>192</td>\\n                <td>Cats</td>\\n                <td>$15.99</td>\\n                <td><button>Buy now</button></td>\\n            </tr>\\n            <tr class=\"book\">\\n                <td>978-3456789012</td>\\n                <td>Cat Tales: Adventures in Whiskerland</td>\\n                <td>Penelope Wainwright</td>\\n                <td>English</td>\\n                <td>320</td>\\n                <td>Cats</td>\\n                <td>$21.99</td>\\n                <td><button>Buy now</button></td>\\n            </tr>\\n            <tr class=\"book\">\\n                <td>978-4567890123</td>\\n                <td>The Enigmatic Paws: Mysteries of Meowville</td>\\n                <td>Maximilian Thorne</td>\\n                <td>English</td>\\n                <td>288</td>\\n                <td>Cats</td>\\n                <td>$17.99</td>\\n                <td><button>Buy now</button></td>\\n            </tr>\\n            <tr class=\"book\">\\n                <td>978-5678901234</td>\\n                <td>Cats in Wonderland</td>\\n                <td>Isadora Harrington</td>\\n                <td>English</td>\\n                <td>224</td>\\n                <td>Cats</td>\\n                <td>$16.99</td>\\n                <td><button>Buy now</button></td>\\n            </tr>\\n            <tr class=\"book\">\\n                <td>978-6789012345</td>\\n                <td>Whisker Wisdom: Life Lessons from Feline Sages</td>\\n                <td>Penelope Wainwright</td>\\n                <td>English</td>\\n                <td>288</td>\\n                <td>Cats</td>\\n                <td>$20.99</td>\\n                <td><button>Buy now</button></td>\\n            </tr>\\n            <tr class=\"book\">\\n                <td>978-7890123456</td>\\n                <td>Catnip Chronicles: A Purrfect Journey</td>\\n                <td>Jasper Sterling</td>\\n                <td>English</td>\\n                <td>192</td>\\n                <td>Cats</td>\\n                <td>$14.99</td>\\n                <td><button>Buy now</button></td>\\n            </tr>\\n            <tr class=\"book\">\\n                <td>978-8901234567</td>\\n                <td>Cat-astrophe: Tales of Misadventures</td>\\n                <td>Celeste Nightshade</td>\\n                <td>English</td>\\n                <td>240</td>\\n                <td>Cats</td>\\n                <td>$18.99</td>\\n                <td><button>Buy now</button></td>\\n            </tr>\\n            <tr class=\"book\">\\n                <td>978-9012345678</td>\\n                <td>The Cat\\'s Whisker: A Feline Fantasy</td>\\n                <td>Penelope Wainwright</td>\\n                <td>English</td>\\n                <td>208</td>\\n                <td>Cats</td>\\n                <td>$16.99</td>\\n                <td><button>Buy now</button></td>\\n            </tr>\\n            <tr class=\"book\">\\n                <td>978-0123456789</td>\\n                <td>Fur and Friendship: Stories of Feline Companions</td>\\n                <td>Seraphina Montague</td>\\n                <td>English</td>\\n                <td>176</td>\\n                <td>Cats</td>\\n                <td>$12.99</td>\\n                <td><button>Buy now</button></td>\\n            </tr>\\n            <tr class=\"book\">\\n                <td>978-1234567890</td>\\n                <td>Tails of Loyalty: Canine Chronicles</td>\\n                <td>Benjamin Barkley</td>\\n                <td>English</td>\\n                <td>256</td>\\n                <td>Dogs</td>\\n                <td>$29.99</td>\\n                <td><button>Buy now</button></td>\\n            </tr>\\n            <tr class=\"book\">\\n                <td>978-2345678901</td>\\n                <td>Pawsitive Adventures: A Dog\\'s Journey</td>\\n                <td>Sophie Shepherd</td>\\n                <td>English</td>\\n                <td>192</td>\\n                <td>Dogs</td>\\n                <td>$25.99</td>\\n                <td><button>Buy now</button></td>\\n            </tr>\\n            <tr class=\"book\">\\n                <td>978-3456789012</td>\\n                <td>Barking Wisdom: Lessons from Wise Canines</td>\\n                <td>Oliver Obedience</td>\\n                <td>English</td>\\n                <td>320</td>\\n                <td>Dogs</td>\\n                <td>$21.99</td>\\n                <td><button>Buy now</button></td>\\n            </tr>\\n            <tr class=\"book\">\\n                <td>978-4567890123</td>\\n                <td>Dogged Determination: Stories of Resilient Pooches</td>\\n                <td>Ruby Ruffington</td>\\n                <td>English</td>\\n                <td>288</td>\\n                <td>Dogs</td>\\n                <td>$27.99</td>\\n                <td><button>Buy now</button></td>\\n            </tr>\\n            <tr class=\"book\">\\n                <td>978-5678901234</td>\\n                <td>The Bark Brigade: Canine Heroes Among Us</td>\\n                <td>Benjamin Barkley</td>\\n                <td>English</td>\\n                <td>224</td>\\n                <td>Dogs</td>\\n                <td>$26.99</td>\\n                <td><button>Buy now</button></td>\\n            </tr>\\n        </table>\\n      </div>\\n\\n\\n    \\n      <footer class=\"page-footer\">\\n        <div class=\"footer-content\">\\n            <p>&copy; 2023 Bob\\'s Bookstore</p>\\n            <ul class=\"social-icons\">\\n                <li><a href=\"#\"><img src=\"facebook.png\" alt=\"Facebook\"></a></li>\\n                <li><a href=\"#\"><img src=\"twitter.png\" alt=\"Twitter\"></a></li>\\n                <li><a href=\"#\"><img src=\"instagram.png\" alt=\"Instagram\"></a></li>\\n            </ul>\\n        </div>\\n    </footer>\\n</body>\\n</html>'"
      ]
     },
     "execution_count": 2,
     "metadata": {},
     "output_type": "execute_result"
    }
   ],
   "source": [
    "requests.get('https://btech-data-analytics.github.io/bridgerland-technical-college/bookstore.html').text"
   ]
  },
  {
   "cell_type": "code",
   "execution_count": 3,
   "id": "5278f019-33be-4b2f-916e-490852b5b597",
   "metadata": {},
   "outputs": [],
   "source": [
    "response = requests.get('https://btech-data-analytics.github.io/bridgerland-technical-college/bookstore.html').text"
   ]
  },
  {
   "cell_type": "code",
   "execution_count": 4,
   "id": "d26c815a-cd6a-4b41-984e-666dd00cc789",
   "metadata": {},
   "outputs": [],
   "source": [
    "soup = BeautifulSoup(response , 'html.parser')\n",
    "rows = soup.find_all('tr', class_='book')"
   ]
  },
  {
   "cell_type": "code",
   "execution_count": 5,
   "id": "9a895ee9-dbd8-4769-bcda-ec46a5b89f24",
   "metadata": {},
   "outputs": [],
   "source": [
    "data = []\n",
    "\n",
    "for row in rows:\n",
    "    cells = row.find_all('td')\n",
    "    author = cells[2].text.strip()\n",
    "    pages = int(cells[4].text.strip())\n",
    "    topic = cells[5].text.strip()\n",
    "    price = float(cells[6].text.strip().replace('$', ''))\n",
    "    \n",
    "    data.append({\n",
    "        'Author': author,\n",
    "        'Topic': topic,\n",
    "        'Pages': pages,\n",
    "        'Price': price\n",
    "    })"
   ]
  },
  {
   "cell_type": "code",
   "execution_count": 6,
   "id": "98f36266-ca18-4ff8-94a8-d7c6dd550a19",
   "metadata": {},
   "outputs": [],
   "source": [
    "df = pd.DataFrame(data)"
   ]
  },
  {
   "cell_type": "code",
   "execution_count": 7,
   "id": "8925d24b-fc48-4593-9322-b87727750360",
   "metadata": {
    "scrolled": true
   },
   "outputs": [
    {
     "data": {
      "text/html": [
       "<div>\n",
       "<style scoped>\n",
       "    .dataframe tbody tr th:only-of-type {\n",
       "        vertical-align: middle;\n",
       "    }\n",
       "\n",
       "    .dataframe tbody tr th {\n",
       "        vertical-align: top;\n",
       "    }\n",
       "\n",
       "    .dataframe thead th {\n",
       "        text-align: right;\n",
       "    }\n",
       "</style>\n",
       "<table border=\"1\" class=\"dataframe\">\n",
       "  <thead>\n",
       "    <tr style=\"text-align: right;\">\n",
       "      <th></th>\n",
       "      <th>Author</th>\n",
       "      <th>Topic</th>\n",
       "      <th>Pages</th>\n",
       "      <th>Price</th>\n",
       "    </tr>\n",
       "  </thead>\n",
       "  <tbody>\n",
       "    <tr>\n",
       "      <th>0</th>\n",
       "      <td>Penelope Wainwright</td>\n",
       "      <td>Cats</td>\n",
       "      <td>256</td>\n",
       "      <td>19.99</td>\n",
       "    </tr>\n",
       "    <tr>\n",
       "      <th>1</th>\n",
       "      <td>Jasper Sterling</td>\n",
       "      <td>Cats</td>\n",
       "      <td>192</td>\n",
       "      <td>15.99</td>\n",
       "    </tr>\n",
       "    <tr>\n",
       "      <th>2</th>\n",
       "      <td>Penelope Wainwright</td>\n",
       "      <td>Cats</td>\n",
       "      <td>320</td>\n",
       "      <td>21.99</td>\n",
       "    </tr>\n",
       "    <tr>\n",
       "      <th>3</th>\n",
       "      <td>Maximilian Thorne</td>\n",
       "      <td>Cats</td>\n",
       "      <td>288</td>\n",
       "      <td>17.99</td>\n",
       "    </tr>\n",
       "    <tr>\n",
       "      <th>4</th>\n",
       "      <td>Isadora Harrington</td>\n",
       "      <td>Cats</td>\n",
       "      <td>224</td>\n",
       "      <td>16.99</td>\n",
       "    </tr>\n",
       "  </tbody>\n",
       "</table>\n",
       "</div>"
      ],
      "text/plain": [
       "                Author Topic  Pages  Price\n",
       "0  Penelope Wainwright  Cats    256  19.99\n",
       "1      Jasper Sterling  Cats    192  15.99\n",
       "2  Penelope Wainwright  Cats    320  21.99\n",
       "3    Maximilian Thorne  Cats    288  17.99\n",
       "4   Isadora Harrington  Cats    224  16.99"
      ]
     },
     "execution_count": 7,
     "metadata": {},
     "output_type": "execute_result"
    }
   ],
   "source": [
    "df.head()"
   ]
  },
  {
   "cell_type": "code",
   "execution_count": 8,
   "id": "20cf6e4e-d2a8-44ea-bbec-edc2813ae882",
   "metadata": {},
   "outputs": [
    {
     "data": {
      "text/html": [
       "<div>\n",
       "<style scoped>\n",
       "    .dataframe tbody tr th:only-of-type {\n",
       "        vertical-align: middle;\n",
       "    }\n",
       "\n",
       "    .dataframe tbody tr th {\n",
       "        vertical-align: top;\n",
       "    }\n",
       "\n",
       "    .dataframe thead th {\n",
       "        text-align: right;\n",
       "    }\n",
       "</style>\n",
       "<table border=\"1\" class=\"dataframe\">\n",
       "  <thead>\n",
       "    <tr style=\"text-align: right;\">\n",
       "      <th></th>\n",
       "      <th>Pages</th>\n",
       "      <th>Price</th>\n",
       "    </tr>\n",
       "  </thead>\n",
       "  <tbody>\n",
       "    <tr>\n",
       "      <th>count</th>\n",
       "      <td>15.000000</td>\n",
       "      <td>15.000000</td>\n",
       "    </tr>\n",
       "    <tr>\n",
       "      <th>mean</th>\n",
       "      <td>244.266667</td>\n",
       "      <td>20.723333</td>\n",
       "    </tr>\n",
       "    <tr>\n",
       "      <th>std</th>\n",
       "      <td>48.177450</td>\n",
       "      <td>5.091543</td>\n",
       "    </tr>\n",
       "    <tr>\n",
       "      <th>min</th>\n",
       "      <td>176.000000</td>\n",
       "      <td>12.990000</td>\n",
       "    </tr>\n",
       "    <tr>\n",
       "      <th>25%</th>\n",
       "      <td>200.000000</td>\n",
       "      <td>16.990000</td>\n",
       "    </tr>\n",
       "    <tr>\n",
       "      <th>50%</th>\n",
       "      <td>240.000000</td>\n",
       "      <td>19.990000</td>\n",
       "    </tr>\n",
       "    <tr>\n",
       "      <th>75%</th>\n",
       "      <td>288.000000</td>\n",
       "      <td>23.990000</td>\n",
       "    </tr>\n",
       "    <tr>\n",
       "      <th>max</th>\n",
       "      <td>320.000000</td>\n",
       "      <td>29.990000</td>\n",
       "    </tr>\n",
       "  </tbody>\n",
       "</table>\n",
       "</div>"
      ],
      "text/plain": [
       "            Pages      Price\n",
       "count   15.000000  15.000000\n",
       "mean   244.266667  20.723333\n",
       "std     48.177450   5.091543\n",
       "min    176.000000  12.990000\n",
       "25%    200.000000  16.990000\n",
       "50%    240.000000  19.990000\n",
       "75%    288.000000  23.990000\n",
       "max    320.000000  29.990000"
      ]
     },
     "execution_count": 8,
     "metadata": {},
     "output_type": "execute_result"
    }
   ],
   "source": [
    "df.describe()"
   ]
  },
  {
   "cell_type": "code",
   "execution_count": 9,
   "id": "97648121-d1dc-40d4-932b-89177703dd4a",
   "metadata": {},
   "outputs": [
    {
     "data": {
      "text/plain": [
       "Author\n",
       "Penelope Wainwright    4\n",
       "Jasper Sterling        2\n",
       "Benjamin Barkley       2\n",
       "Maximilian Thorne      1\n",
       "Isadora Harrington     1\n",
       "Celeste Nightshade     1\n",
       "Seraphina Montague     1\n",
       "Sophie Shepherd        1\n",
       "Oliver Obedience       1\n",
       "Ruby Ruffington        1\n",
       "Name: count, dtype: int64"
      ]
     },
     "execution_count": 9,
     "metadata": {},
     "output_type": "execute_result"
    }
   ],
   "source": [
    "df['Author'].value_counts()"
   ]
  },
  {
   "cell_type": "code",
   "execution_count": 10,
   "id": "f3856939-d231-409e-9906-0a325bdf3f32",
   "metadata": {},
   "outputs": [
    {
     "data": {
      "text/plain": [
       "Topic\n",
       "Cats    10\n",
       "Dogs     5\n",
       "Name: count, dtype: int64"
      ]
     },
     "execution_count": 10,
     "metadata": {},
     "output_type": "execute_result"
    }
   ],
   "source": [
    "df['Topic'].value_counts()"
   ]
  },
  {
   "cell_type": "code",
   "execution_count": 11,
   "id": "c4f3258d-4e64-407f-85f5-4ea4912b11a4",
   "metadata": {},
   "outputs": [
    {
     "data": {
      "text/plain": [
       "Topic\n",
       "Cats    17.79\n",
       "Dogs    26.59\n",
       "Name: Price, dtype: float64"
      ]
     },
     "execution_count": 11,
     "metadata": {},
     "output_type": "execute_result"
    }
   ],
   "source": [
    "df.groupby('Topic')['Price'].mean()"
   ]
  },
  {
   "cell_type": "code",
   "execution_count": 12,
   "id": "40eb9cf1-85ad-431f-bd8a-8c8c052c04ec",
   "metadata": {},
   "outputs": [
    {
     "data": {
      "text/plain": [
       "Topic\n",
       "Cats    238.4\n",
       "Dogs    256.0\n",
       "Name: Pages, dtype: float64"
      ]
     },
     "execution_count": 12,
     "metadata": {},
     "output_type": "execute_result"
    }
   ],
   "source": [
    "df.groupby('Topic')['Pages'].mean()"
   ]
  }
 ],
 "metadata": {
  "kernelspec": {
   "display_name": "Python 3 (ipykernel)",
   "language": "python",
   "name": "python3"
  },
  "language_info": {
   "codemirror_mode": {
    "name": "ipython",
    "version": 3
   },
   "file_extension": ".py",
   "mimetype": "text/x-python",
   "name": "python",
   "nbconvert_exporter": "python",
   "pygments_lexer": "ipython3",
   "version": "3.13.5"
  }
 },
 "nbformat": 4,
 "nbformat_minor": 5
}
